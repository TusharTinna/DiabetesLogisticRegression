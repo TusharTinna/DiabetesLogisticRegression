{
 "cells": [
  {
   "cell_type": "code",
   "execution_count": 1,
   "id": "f23a467a",
   "metadata": {},
   "outputs": [],
   "source": [
    "import pandas as pd\n",
    "import numpy as np"
   ]
  },
  {
   "cell_type": "code",
   "execution_count": 2,
   "id": "cfb652c6",
   "metadata": {},
   "outputs": [],
   "source": [
    "inputs=pd.read_csv('Diabetes_XTrain.csv')\n",
    "targets=pd.read_csv('Diabetes_YTrain.csv')"
   ]
  },
  {
   "cell_type": "code",
   "execution_count": 3,
   "id": "0b0f18e1",
   "metadata": {},
   "outputs": [],
   "source": [
    "# import train_test_split so we can split our data into train and test\n",
    "from sklearn.model_selection import train_test_split"
   ]
  },
  {
   "cell_type": "code",
   "execution_count": 4,
   "id": "b0a2696c",
   "metadata": {},
   "outputs": [
    {
     "data": {
      "text/plain": [
       "[     Pregnancies  Glucose  BloodPressure  SkinThickness  Insulin   BMI  \\\n",
       " 42            11      127            106              0        0  39.0   \n",
       " 120            3       87             60             18        0  21.8   \n",
       " 280            6       99             60             19       54  26.9   \n",
       " 264            0       84             64             22       66  35.8   \n",
       " 214            1      139             46             19       83  28.7   \n",
       " ..           ...      ...            ...            ...      ...   ...   \n",
       " 389            4      146             92              0        0  31.2   \n",
       " 35             0      120             74             18       63  30.5   \n",
       " 489            4      111             72             47      207  37.1   \n",
       " 115            4       90              0              0        0  28.0   \n",
       " 510            0      119             64             18       92  34.9   \n",
       " \n",
       "      DiabetesPedigreeFunction  Age  \n",
       " 42                      0.190   51  \n",
       " 120                     0.444   21  \n",
       " 280                     0.497   32  \n",
       " 264                     0.545   21  \n",
       " 214                     0.654   22  \n",
       " ..                        ...  ...  \n",
       " 389                     0.539   61  \n",
       " 35                      0.285   26  \n",
       " 489                     1.390   56  \n",
       " 115                     0.610   31  \n",
       " 510                     0.725   23  \n",
       " \n",
       " [432 rows x 8 columns],\n",
       "      Pregnancies  Glucose  BloodPressure  SkinThickness  Insulin   BMI  \\\n",
       " 532            2       84             50             23       76  30.4   \n",
       " 346            1      119             88             41      170  45.3   \n",
       " 202           13      145             82             19      110  22.2   \n",
       " 70             1      144             82             40        0  41.3   \n",
       " 478            4      125             70             18      122  28.9   \n",
       " ..           ...      ...            ...            ...      ...   ...   \n",
       " 178            2       81             60             22        0  27.7   \n",
       " 468            0       98             82             15       84  25.2   \n",
       " 416            5      124             74              0        0  34.0   \n",
       " 241            4      137             84              0        0  31.2   \n",
       " 327            7      114             76             17      110  23.8   \n",
       " \n",
       "      DiabetesPedigreeFunction  Age  \n",
       " 532                     0.968   21  \n",
       " 346                     0.507   26  \n",
       " 202                     0.245   57  \n",
       " 70                      0.607   28  \n",
       " 478                     1.144   45  \n",
       " ..                        ...  ...  \n",
       " 178                     0.290   25  \n",
       " 468                     0.299   22  \n",
       " 416                     0.220   38  \n",
       " 241                     0.252   30  \n",
       " 327                     0.466   31  \n",
       " \n",
       " [144 rows x 8 columns],\n",
       "      Outcome\n",
       " 42         0\n",
       " 120        0\n",
       " 280        0\n",
       " 264        0\n",
       " 214        0\n",
       " ..       ...\n",
       " 389        1\n",
       " 35         0\n",
       " 489        1\n",
       " 115        0\n",
       " 510        0\n",
       " \n",
       " [432 rows x 1 columns],\n",
       "      Outcome\n",
       " 532        0\n",
       " 346        0\n",
       " 202        0\n",
       " 70         0\n",
       " 478        1\n",
       " ..       ...\n",
       " 178        0\n",
       " 468        0\n",
       " 416        1\n",
       " 241        0\n",
       " 327        0\n",
       " \n",
       " [144 rows x 1 columns]]"
      ]
     },
     "execution_count": 4,
     "metadata": {},
     "output_type": "execute_result"
    }
   ],
   "source": [
    "train_test_split(inputs, targets)"
   ]
  },
  {
   "cell_type": "code",
   "execution_count": 17,
   "id": "2b113a62",
   "metadata": {},
   "outputs": [],
   "source": [
    "x_train, x_test, y_train, y_test = train_test_split(inputs, targets, #train_size = 0.85, \n",
    "                                                                            test_size = 0.15)"
   ]
  },
  {
   "cell_type": "code",
   "execution_count": 18,
   "id": "a573d1f8",
   "metadata": {},
   "outputs": [
    {
     "name": "stdout",
     "output_type": "stream",
     "text": [
      "(489, 8) (489, 1)\n"
     ]
    }
   ],
   "source": [
    "# check the shape of the train inputs and targets\n",
    "print (x_train.shape, y_train.shape)"
   ]
  },
  {
   "cell_type": "code",
   "execution_count": 19,
   "id": "7e42abbc",
   "metadata": {},
   "outputs": [
    {
     "name": "stdout",
     "output_type": "stream",
     "text": [
      "(87, 8) (87, 1)\n"
     ]
    }
   ],
   "source": [
    "# check the shape of the test inputs and targets\n",
    "print (x_test.shape, y_test.shape)"
   ]
  },
  {
   "cell_type": "code",
   "execution_count": 20,
   "id": "b2344fb9",
   "metadata": {},
   "outputs": [],
   "source": [
    "# import the LogReg model from sklearn\n",
    "from sklearn.linear_model import LogisticRegression\n",
    "\n",
    "# import the 'metrics' module, which includes important metrics we may want to use\n",
    "from sklearn import metrics\n",
    "\n",
    "# create a logistic regression object\n",
    "reg = LogisticRegression()"
   ]
  },
  {
   "cell_type": "code",
   "execution_count": 21,
   "id": "d7d794bf",
   "metadata": {},
   "outputs": [
    {
     "name": "stderr",
     "output_type": "stream",
     "text": [
      "/Users/tushartinna/opt/anaconda3/lib/python3.9/site-packages/sklearn/utils/validation.py:993: DataConversionWarning: A column-vector y was passed when a 1d array was expected. Please change the shape of y to (n_samples, ), for example using ravel().\n",
      "  y = column_or_1d(y, warn=True)\n",
      "/Users/tushartinna/opt/anaconda3/lib/python3.9/site-packages/sklearn/linear_model/_logistic.py:814: ConvergenceWarning: lbfgs failed to converge (status=1):\n",
      "STOP: TOTAL NO. of ITERATIONS REACHED LIMIT.\n",
      "\n",
      "Increase the number of iterations (max_iter) or scale the data as shown in:\n",
      "    https://scikit-learn.org/stable/modules/preprocessing.html\n",
      "Please also refer to the documentation for alternative solver options:\n",
      "    https://scikit-learn.org/stable/modules/linear_model.html#logistic-regression\n",
      "  n_iter_i = _check_optimize_result(\n"
     ]
    },
    {
     "data": {
      "text/plain": [
       "LogisticRegression()"
      ]
     },
     "execution_count": 21,
     "metadata": {},
     "output_type": "execute_result"
    }
   ],
   "source": [
    "# fit our train inputs\n",
    "# this is training part of the machine learning\n",
    "reg.fit(x_train,y_train)"
   ]
  },
  {
   "cell_type": "code",
   "execution_count": 22,
   "id": "73ecfc37",
   "metadata": {},
   "outputs": [
    {
     "data": {
      "text/plain": [
       "0.7811860940695297"
      ]
     },
     "execution_count": 22,
     "metadata": {},
     "output_type": "execute_result"
    }
   ],
   "source": [
    "# assess the train accuracy of the model\n",
    "reg.score(x_train,y_train)"
   ]
  },
  {
   "cell_type": "code",
   "execution_count": 23,
   "id": "0f74ee1d",
   "metadata": {},
   "outputs": [
    {
     "data": {
      "text/plain": [
       "array([-8.43161128])"
      ]
     },
     "execution_count": 23,
     "metadata": {},
     "output_type": "execute_result"
    }
   ],
   "source": [
    "# get the intercept (bias) of our model\n",
    "reg.intercept_"
   ]
  },
  {
   "cell_type": "code",
   "execution_count": 24,
   "id": "b4d9502b",
   "metadata": {},
   "outputs": [
    {
     "data": {
      "text/plain": [
       "array([[ 1.12692211e-01,  3.67635344e-02, -1.53091077e-02,\n",
       "        -3.25106954e-03, -6.26885200e-04,  9.88594650e-02,\n",
       "         1.17293477e+00,  6.12092363e-03]])"
      ]
     },
     "execution_count": 24,
     "metadata": {},
     "output_type": "execute_result"
    }
   ],
   "source": [
    "# get the coefficients (weights) of our model\n",
    "reg.coef_"
   ]
  },
  {
   "cell_type": "code",
   "execution_count": 25,
   "id": "929f8683",
   "metadata": {},
   "outputs": [],
   "source": [
    "# check what were the names of our columns\n",
    "inputs.columns.values\n",
    "# save the names of the columns in an ad-hoc variable\n",
    "feature_name = inputs.columns.values"
   ]
  },
  {
   "cell_type": "code",
   "execution_count": 26,
   "id": "4b673717",
   "metadata": {},
   "outputs": [
    {
     "data": {
      "text/html": [
       "<div>\n",
       "<style scoped>\n",
       "    .dataframe tbody tr th:only-of-type {\n",
       "        vertical-align: middle;\n",
       "    }\n",
       "\n",
       "    .dataframe tbody tr th {\n",
       "        vertical-align: top;\n",
       "    }\n",
       "\n",
       "    .dataframe thead th {\n",
       "        text-align: right;\n",
       "    }\n",
       "</style>\n",
       "<table border=\"1\" class=\"dataframe\">\n",
       "  <thead>\n",
       "    <tr style=\"text-align: right;\">\n",
       "      <th></th>\n",
       "      <th>Feature name</th>\n",
       "      <th>Coefficient</th>\n",
       "    </tr>\n",
       "  </thead>\n",
       "  <tbody>\n",
       "    <tr>\n",
       "      <th>0</th>\n",
       "      <td>Pregnancies</td>\n",
       "      <td>0.112692</td>\n",
       "    </tr>\n",
       "    <tr>\n",
       "      <th>1</th>\n",
       "      <td>Glucose</td>\n",
       "      <td>0.036764</td>\n",
       "    </tr>\n",
       "    <tr>\n",
       "      <th>2</th>\n",
       "      <td>BloodPressure</td>\n",
       "      <td>-0.015309</td>\n",
       "    </tr>\n",
       "    <tr>\n",
       "      <th>3</th>\n",
       "      <td>SkinThickness</td>\n",
       "      <td>-0.003251</td>\n",
       "    </tr>\n",
       "    <tr>\n",
       "      <th>4</th>\n",
       "      <td>Insulin</td>\n",
       "      <td>-0.000627</td>\n",
       "    </tr>\n",
       "    <tr>\n",
       "      <th>5</th>\n",
       "      <td>BMI</td>\n",
       "      <td>0.098859</td>\n",
       "    </tr>\n",
       "    <tr>\n",
       "      <th>6</th>\n",
       "      <td>DiabetesPedigreeFunction</td>\n",
       "      <td>1.172935</td>\n",
       "    </tr>\n",
       "    <tr>\n",
       "      <th>7</th>\n",
       "      <td>Age</td>\n",
       "      <td>0.006121</td>\n",
       "    </tr>\n",
       "  </tbody>\n",
       "</table>\n",
       "</div>"
      ],
      "text/plain": [
       "               Feature name  Coefficient\n",
       "0               Pregnancies     0.112692\n",
       "1                   Glucose     0.036764\n",
       "2             BloodPressure    -0.015309\n",
       "3             SkinThickness    -0.003251\n",
       "4                   Insulin    -0.000627\n",
       "5                       BMI     0.098859\n",
       "6  DiabetesPedigreeFunction     1.172935\n",
       "7                       Age     0.006121"
      ]
     },
     "execution_count": 26,
     "metadata": {},
     "output_type": "execute_result"
    }
   ],
   "source": [
    "# use the coefficients from this table (they will be exported later and will be used in Tableau)\n",
    "# transpose the model coefficients (model.coef_) and throws them into a df (a vertical organization, so that they can be\n",
    "# multiplied by certain matrices later) \n",
    "summary_table = pd.DataFrame (columns=['Feature name'], data = feature_name)\n",
    "\n",
    "# add the coefficient values to the summary table\n",
    "summary_table['Coefficient'] = np.transpose(reg.coef_)\n",
    "\n",
    "# display the summary table\n",
    "summary_table"
   ]
  },
  {
   "cell_type": "code",
   "execution_count": 27,
   "id": "6122e7b9",
   "metadata": {},
   "outputs": [
    {
     "data": {
      "text/html": [
       "<div>\n",
       "<style scoped>\n",
       "    .dataframe tbody tr th:only-of-type {\n",
       "        vertical-align: middle;\n",
       "    }\n",
       "\n",
       "    .dataframe tbody tr th {\n",
       "        vertical-align: top;\n",
       "    }\n",
       "\n",
       "    .dataframe thead th {\n",
       "        text-align: right;\n",
       "    }\n",
       "</style>\n",
       "<table border=\"1\" class=\"dataframe\">\n",
       "  <thead>\n",
       "    <tr style=\"text-align: right;\">\n",
       "      <th></th>\n",
       "      <th>Feature name</th>\n",
       "      <th>Coefficient</th>\n",
       "      <th>Odds_ratio</th>\n",
       "    </tr>\n",
       "  </thead>\n",
       "  <tbody>\n",
       "    <tr>\n",
       "      <th>0</th>\n",
       "      <td>Pregnancies</td>\n",
       "      <td>0.112692</td>\n",
       "      <td>1.119287</td>\n",
       "    </tr>\n",
       "    <tr>\n",
       "      <th>1</th>\n",
       "      <td>Glucose</td>\n",
       "      <td>0.036764</td>\n",
       "      <td>1.037448</td>\n",
       "    </tr>\n",
       "    <tr>\n",
       "      <th>2</th>\n",
       "      <td>BloodPressure</td>\n",
       "      <td>-0.015309</td>\n",
       "      <td>0.984807</td>\n",
       "    </tr>\n",
       "    <tr>\n",
       "      <th>3</th>\n",
       "      <td>SkinThickness</td>\n",
       "      <td>-0.003251</td>\n",
       "      <td>0.996754</td>\n",
       "    </tr>\n",
       "    <tr>\n",
       "      <th>4</th>\n",
       "      <td>Insulin</td>\n",
       "      <td>-0.000627</td>\n",
       "      <td>0.999373</td>\n",
       "    </tr>\n",
       "    <tr>\n",
       "      <th>5</th>\n",
       "      <td>BMI</td>\n",
       "      <td>0.098859</td>\n",
       "      <td>1.103911</td>\n",
       "    </tr>\n",
       "    <tr>\n",
       "      <th>6</th>\n",
       "      <td>DiabetesPedigreeFunction</td>\n",
       "      <td>1.172935</td>\n",
       "      <td>3.231462</td>\n",
       "    </tr>\n",
       "    <tr>\n",
       "      <th>7</th>\n",
       "      <td>Age</td>\n",
       "      <td>0.006121</td>\n",
       "      <td>1.006140</td>\n",
       "    </tr>\n",
       "  </tbody>\n",
       "</table>\n",
       "</div>"
      ],
      "text/plain": [
       "               Feature name  Coefficient  Odds_ratio\n",
       "0               Pregnancies     0.112692    1.119287\n",
       "1                   Glucose     0.036764    1.037448\n",
       "2             BloodPressure    -0.015309    0.984807\n",
       "3             SkinThickness    -0.003251    0.996754\n",
       "4                   Insulin    -0.000627    0.999373\n",
       "5                       BMI     0.098859    1.103911\n",
       "6  DiabetesPedigreeFunction     1.172935    3.231462\n",
       "7                       Age     0.006121    1.006140"
      ]
     },
     "execution_count": 27,
     "metadata": {},
     "output_type": "execute_result"
    }
   ],
   "source": [
    "summary_table['Odds_ratio'] = np.exp(summary_table.Coefficient)\n",
    "summary_table.sort_values('Odds_ratio', ascending=False)\n",
    "summary_table"
   ]
  },
  {
   "cell_type": "code",
   "execution_count": 28,
   "id": "9d4136f1",
   "metadata": {},
   "outputs": [
    {
     "data": {
      "text/plain": [
       "0.7816091954022989"
      ]
     },
     "execution_count": 28,
     "metadata": {},
     "output_type": "execute_result"
    }
   ],
   "source": [
    "# assess the test accuracy of the model\n",
    "reg.score(x_test,y_test)"
   ]
  },
  {
   "cell_type": "code",
   "execution_count": 29,
   "id": "939e177d",
   "metadata": {},
   "outputs": [
    {
     "data": {
      "text/plain": [
       "array([[0.93005005, 0.06994995],\n",
       "       [0.12227912, 0.87772088],\n",
       "       [0.87311128, 0.12688872],\n",
       "       [0.85626041, 0.14373959],\n",
       "       [0.95524343, 0.04475657],\n",
       "       [0.10437645, 0.89562355],\n",
       "       [0.26839099, 0.73160901],\n",
       "       [0.52406768, 0.47593232],\n",
       "       [0.81513762, 0.18486238],\n",
       "       [0.51487929, 0.48512071],\n",
       "       [0.79618486, 0.20381514],\n",
       "       [0.99397162, 0.00602838],\n",
       "       [0.26026425, 0.73973575],\n",
       "       [0.93513696, 0.06486304],\n",
       "       [0.1600188 , 0.8399812 ],\n",
       "       [0.94924796, 0.05075204],\n",
       "       [0.92478098, 0.07521902],\n",
       "       [0.36449817, 0.63550183],\n",
       "       [0.86037706, 0.13962294],\n",
       "       [0.80545325, 0.19454675],\n",
       "       [0.52153449, 0.47846551],\n",
       "       [0.84720058, 0.15279942],\n",
       "       [0.87360255, 0.12639745],\n",
       "       [0.67070425, 0.32929575],\n",
       "       [0.23156005, 0.76843995],\n",
       "       [0.0465551 , 0.9534449 ],\n",
       "       [0.74716967, 0.25283033],\n",
       "       [0.62878718, 0.37121282],\n",
       "       [0.64043035, 0.35956965],\n",
       "       [0.92785089, 0.07214911],\n",
       "       [0.76269699, 0.23730301],\n",
       "       [0.89685534, 0.10314466],\n",
       "       [0.77222521, 0.22777479],\n",
       "       [0.75889477, 0.24110523],\n",
       "       [0.3152129 , 0.6847871 ],\n",
       "       [0.80772176, 0.19227824],\n",
       "       [0.85247506, 0.14752494],\n",
       "       [0.96303922, 0.03696078],\n",
       "       [0.81138671, 0.18861329],\n",
       "       [0.71100692, 0.28899308],\n",
       "       [0.94633015, 0.05366985],\n",
       "       [0.27332724, 0.72667276],\n",
       "       [0.82395704, 0.17604296],\n",
       "       [0.14815868, 0.85184132],\n",
       "       [0.40233127, 0.59766873],\n",
       "       [0.25775144, 0.74224856],\n",
       "       [0.92435843, 0.07564157],\n",
       "       [0.02402039, 0.97597961],\n",
       "       [0.90670788, 0.09329212],\n",
       "       [0.95197738, 0.04802262],\n",
       "       [0.18263051, 0.81736949],\n",
       "       [0.26546059, 0.73453941],\n",
       "       [0.08714815, 0.91285185],\n",
       "       [0.47761602, 0.52238398],\n",
       "       [0.93063683, 0.06936317],\n",
       "       [0.92802552, 0.07197448],\n",
       "       [0.01557489, 0.98442511],\n",
       "       [0.08839852, 0.91160148],\n",
       "       [0.27890724, 0.72109276],\n",
       "       [0.74650041, 0.25349959],\n",
       "       [0.71207626, 0.28792374],\n",
       "       [0.74339293, 0.25660707],\n",
       "       [0.95652793, 0.04347207],\n",
       "       [0.84542279, 0.15457721],\n",
       "       [0.57419036, 0.42580964],\n",
       "       [0.51219254, 0.48780746],\n",
       "       [0.28815938, 0.71184062],\n",
       "       [0.59460505, 0.40539495],\n",
       "       [0.77960465, 0.22039535],\n",
       "       [0.73991112, 0.26008888],\n",
       "       [0.91555228, 0.08444772],\n",
       "       [0.97890042, 0.02109958],\n",
       "       [0.8696608 , 0.1303392 ],\n",
       "       [0.34991154, 0.65008846],\n",
       "       [0.73258567, 0.26741433],\n",
       "       [0.65571926, 0.34428074],\n",
       "       [0.68383892, 0.31616108],\n",
       "       [0.86536348, 0.13463652],\n",
       "       [0.05117212, 0.94882788],\n",
       "       [0.03050392, 0.96949608],\n",
       "       [0.68948171, 0.31051829],\n",
       "       [0.89213961, 0.10786039],\n",
       "       [0.9011647 , 0.0988353 ],\n",
       "       [0.87392978, 0.12607022],\n",
       "       [0.41194616, 0.58805384],\n",
       "       [0.72718474, 0.27281526],\n",
       "       [0.6982991 , 0.3017009 ]])"
      ]
     },
     "execution_count": 29,
     "metadata": {},
     "output_type": "execute_result"
    }
   ],
   "source": [
    "# find the predicted probabilities of each class\n",
    "# the first column shows the probability of a particular observation to be 0, while the second one - to be 1\n",
    "predicted_proba = reg.predict_proba(x_test)\n",
    "\n",
    "# let's check that out\n",
    "predicted_proba"
   ]
  },
  {
   "cell_type": "code",
   "execution_count": 30,
   "id": "ee187f56",
   "metadata": {},
   "outputs": [
    {
     "data": {
      "text/plain": [
       "array([0.06994995, 0.87772088, 0.12688872, 0.14373959, 0.04475657,\n",
       "       0.89562355, 0.73160901, 0.47593232, 0.18486238, 0.48512071,\n",
       "       0.20381514, 0.00602838, 0.73973575, 0.06486304, 0.8399812 ,\n",
       "       0.05075204, 0.07521902, 0.63550183, 0.13962294, 0.19454675,\n",
       "       0.47846551, 0.15279942, 0.12639745, 0.32929575, 0.76843995,\n",
       "       0.9534449 , 0.25283033, 0.37121282, 0.35956965, 0.07214911,\n",
       "       0.23730301, 0.10314466, 0.22777479, 0.24110523, 0.6847871 ,\n",
       "       0.19227824, 0.14752494, 0.03696078, 0.18861329, 0.28899308,\n",
       "       0.05366985, 0.72667276, 0.17604296, 0.85184132, 0.59766873,\n",
       "       0.74224856, 0.07564157, 0.97597961, 0.09329212, 0.04802262,\n",
       "       0.81736949, 0.73453941, 0.91285185, 0.52238398, 0.06936317,\n",
       "       0.07197448, 0.98442511, 0.91160148, 0.72109276, 0.25349959,\n",
       "       0.28792374, 0.25660707, 0.04347207, 0.15457721, 0.42580964,\n",
       "       0.48780746, 0.71184062, 0.40539495, 0.22039535, 0.26008888,\n",
       "       0.08444772, 0.02109958, 0.1303392 , 0.65008846, 0.26741433,\n",
       "       0.34428074, 0.31616108, 0.13463652, 0.94882788, 0.96949608,\n",
       "       0.31051829, 0.10786039, 0.0988353 , 0.12607022, 0.58805384,\n",
       "       0.27281526, 0.3017009 ])"
      ]
     },
     "execution_count": 30,
     "metadata": {},
     "output_type": "execute_result"
    }
   ],
   "source": [
    "# select ONLY the probabilities referring to 1s\n",
    "predicted_proba[:,1]"
   ]
  },
  {
   "cell_type": "code",
   "execution_count": 31,
   "id": "574e529a",
   "metadata": {},
   "outputs": [],
   "source": [
    "# import the relevant module\n",
    "import pickle"
   ]
  },
  {
   "cell_type": "code",
   "execution_count": 33,
   "id": "c5365d65",
   "metadata": {},
   "outputs": [],
   "source": [
    "# pickle the model file\n",
    "with open('model', 'wb') as file:\n",
    "    pickle.dump(reg, file)"
   ]
  },
  {
   "cell_type": "code",
   "execution_count": null,
   "id": "62aef97c",
   "metadata": {},
   "outputs": [],
   "source": []
  }
 ],
 "metadata": {
  "kernelspec": {
   "display_name": "Python 3 (ipykernel)",
   "language": "python",
   "name": "python3"
  },
  "language_info": {
   "codemirror_mode": {
    "name": "ipython",
    "version": 3
   },
   "file_extension": ".py",
   "mimetype": "text/x-python",
   "name": "python",
   "nbconvert_exporter": "python",
   "pygments_lexer": "ipython3",
   "version": "3.9.12"
  }
 },
 "nbformat": 4,
 "nbformat_minor": 5
}
